{
 "cells": [
  {
   "cell_type": "markdown",
   "id": "35e3f3b2",
   "metadata": {},
   "source": [
    "![alt text](virlow.png \"Virlow\")"
   ]
  },
  {
   "cell_type": "markdown",
   "id": "0ef6fc78",
   "metadata": {},
   "source": [
    "\n",
    "\n",
    "# Virlow Speech-to-Text API with JupyterLab\n",
    "\n",
    "The Virlow API can be used to quickly convert pre-recorded audio files and real-time audio streams into accurate text transcriptions. This Jupyter notebook/lab allows you to easily use the Virlow API in your application."
   ]
  },
  {
   "cell_type": "markdown",
   "id": "0bb0f234",
   "metadata": {},
   "source": [
    "## Install required packages\n",
    "\n",
    "<div class=\"alert alert-block alert-info\">\n",
    "<b>Info:</b> Tested on macOS.\n",
    "</div>\n",
    "\n",
    "1. `pip install torchaudio ipywebrtc`\n",
    "1. `jupyter nbextension enable --py widgetsnbextension`\n",
    "1. Install ffmpeg - https://www.ffmpeg.org/download.html"
   ]
  },
  {
   "cell_type": "markdown",
   "id": "7bbe344e",
   "metadata": {},
   "source": [
    "## Record an audio file"
   ]
  },
  {
   "cell_type": "code",
   "execution_count": null,
   "id": "bdfa9457",
   "metadata": {},
   "outputs": [],
   "source": [
    "from ipywebrtc import AudioRecorder, CameraStream\n",
    "import torchaudio\n",
    "from IPython.display import Audio"
   ]
  },
  {
   "cell_type": "code",
   "execution_count": null,
   "id": "c7f5d92c",
   "metadata": {},
   "outputs": [],
   "source": [
    "camera = CameraStream(constraints={'audio': True,'video':False})\n",
    "recorder = AudioRecorder(stream=camera)\n",
    "recorder"
   ]
  },
  {
   "cell_type": "code",
   "execution_count": null,
   "id": "5bc7c175",
   "metadata": {},
   "outputs": [],
   "source": [
    "with open('recording.webm', 'wb') as f:\n",
    "    f.write(recorder.audio.value)\n",
    "!ffmpeg -i recording.webm -ac 1 -f wav audio.wav -y -hide_banner -loglevel panic\n",
    "sig, sr = torchaudio.load(\"audio.wav\")\n",
    "print(sig.shape)\n",
    "Audio(data=sig, rate=sr)"
   ]
  },
  {
   "cell_type": "markdown",
   "id": "75cd28b9",
   "metadata": {},
   "source": [
    "## Transcribe your audio file\n",
    "\n",
    "1. Get your API Key in the Virlow Console.\n",
    "\n",
    "2. Follow the intrudctions on how to create an API Key at https://docs.voice.virlow.com/reference/authentication-1"
   ]
  },
  {
   "cell_type": "code",
   "execution_count": null,
   "id": "41d811a9",
   "metadata": {},
   "outputs": [],
   "source": [
    "API_KEY=\"YOUR_API_KEY\""
   ]
  },
  {
   "cell_type": "code",
   "execution_count": null,
   "id": "082b7a89",
   "metadata": {},
   "outputs": [],
   "source": [
    "import requests\n",
    "\n",
    "url = \"https://api.voice.virlow.com/v1-beta/transcript?x-api-key=\" + API_KEY\n",
    "\n",
    "payload = {\n",
    "    'dual_channel': 'false',\n",
    "    'punctuate': 'true',\n",
    "    'webhook_url': '',\n",
    "    'speaker_diarization': 'false',\n",
    "    'language': 'enUs',\n",
    "    'short_hand_notes': 'true',\n",
    "    'tldr': 'true',\n",
    "    'custom': 'YOUR_VALUE'}\n",
    "\n",
    "files = [('audio',('audio.wav',open('audio.wav','rb'),'audio/wav'))]\n",
    "\n",
    "headers = {}\n",
    "\n",
    "response = requests.request(\"POST\", url, headers=headers, data=payload, files=files)\n",
    "\n",
    "JOB_ID = response.json()[\"id\"]\n",
    "\n",
    "print(response.text)"
   ]
  },
  {
   "cell_type": "markdown",
   "id": "2b0bd0df",
   "metadata": {},
   "source": [
    "## Get the transcription results\n",
    "\n",
    "\n",
    "\n",
    "<div class=\"alert alert-block alert-info\">\n",
    "<b>Info:</b> To provide you an affordable Speech-to-Text API it will take a few minutes for the audio file to be processed. It will take between 1 to 5 mintues before the file starts to process.\n",
    "</div>\n"
   ]
  },
  {
   "cell_type": "code",
   "execution_count": null,
   "id": "e4c46fee",
   "metadata": {},
   "outputs": [],
   "source": [
    "import json\n",
    "\n",
    "url = \"https://api.voice.virlow.com/v1-beta/transcript/status?x-api-key=\" + API_KEY + \"&id=\" + JOB_ID\n",
    "\n",
    "response = requests.request(\"GET\", url)\n",
    "\n",
    "json_data = json.loads(response.text)"
   ]
  },
  {
   "cell_type": "code",
   "execution_count": null,
   "id": "09648347",
   "metadata": {},
   "outputs": [],
   "source": [
    "print(json.dumps(json_data, indent=4, sort_keys=True))"
   ]
  }
 ],
 "metadata": {
  "kernelspec": {
   "display_name": "Python 3 (ipykernel)",
   "language": "python",
   "name": "python3"
  },
  "language_info": {
   "codemirror_mode": {
    "name": "ipython",
    "version": 3
   },
   "file_extension": ".py",
   "mimetype": "text/x-python",
   "name": "python",
   "nbconvert_exporter": "python",
   "pygments_lexer": "ipython3",
   "version": "3.9.13"
  }
 },
 "nbformat": 4,
 "nbformat_minor": 5
}
